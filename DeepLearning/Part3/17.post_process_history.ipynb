{
 "cells": [
  {
   "cell_type": "markdown",
   "metadata": {},
   "source": [
    "## History\n",
    "- 학습이 끝난 뒤 확인 방법"
   ]
  },
  {
   "cell_type": "code",
   "execution_count": 1,
   "metadata": {},
   "outputs": [],
   "source": [
    "import os\n",
    "from glob import glob\n",
    "from datetime import datetime\n",
    "\n",
    "import numpy as np\n",
    "\n",
    "import tensorflow as tf\n",
    "from tensorflow.keras import layers\n",
    "\n",
    "from tensorflow.keras import datasets \n",
    "\n",
    "import matplotlib.pyplot as plt\n",
    "\n",
    "%matplotlib inline"
   ]
  },
  {
   "cell_type": "markdown",
   "metadata": {},
   "source": [
    "## Hyperparameter Tunning"
   ]
  },
  {
   "cell_type": "code",
   "execution_count": 2,
   "metadata": {},
   "outputs": [],
   "source": [
    "num_epochs = 50\n",
    "batch_size = 32\n",
    "\n",
    "learning_rate = 0.001\n",
    "\n",
    "dropout_rate = 0.5\n",
    "\n",
    "input_shape = (32, 32, 3)\n",
    "num_classes = 10"
   ]
  },
  {
   "cell_type": "markdown",
   "metadata": {},
   "source": [
    "## Build Model"
   ]
  },
  {
   "cell_type": "code",
   "execution_count": 3,
   "metadata": {},
   "outputs": [],
   "source": [
    "inputs = layers.Input(input_shape)\n",
    "\n",
    "net = layers.Conv2D(32, (3, 3), padding='SAME')(inputs)\n",
    "net = layers.Activation('relu')(net)\n",
    "net = layers.Conv2D(32, (3, 3), padding='SAME')(net)\n",
    "net = layers.Activation('relu')(net)\n",
    "net = layers.MaxPooling2D(pool_size=(2, 2))(net)\n",
    "net = layers.Dropout(dropout_rate)(net)\n",
    "\n",
    "net = layers.Conv2D(64, (3, 3), padding='SAME')(net)\n",
    "net = layers.Activation('relu')(net)\n",
    "net = layers.Conv2D(64, (3, 3), padding='SAME')(net)\n",
    "net = layers.Activation('relu')(net)\n",
    "net = layers.MaxPooling2D(pool_size=(2, 2))(net)\n",
    "net = layers.Dropout(dropout_rate)(net)\n",
    "\n",
    "net = layers.Flatten()(net)\n",
    "net = layers.Dense(512)(net)\n",
    "net = layers.Activation('relu')(net)\n",
    "net = layers.Dropout(dropout_rate)(net)\n",
    "net = layers.Dense(num_classes)(net)\n",
    "net = layers.Activation('softmax')(net)\n",
    "\n",
    "model = tf.keras.Model(inputs=inputs, outputs=net, name='Basic_CNN')"
   ]
  },
  {
   "cell_type": "code",
   "execution_count": 4,
   "metadata": {},
   "outputs": [],
   "source": [
    "# Model is the full model w/o custom layers\n",
    "model.compile(optimizer=tf.keras.optimizers.Adam(learning_rate),  # Optimization\n",
    "              loss='sparse_categorical_crossentropy',  # Loss Function \n",
    "              metrics=['accuracy'])  # Metrics / Accuracy"
   ]
  },
  {
   "cell_type": "markdown",
   "metadata": {},
   "source": [
    "## Data Preprocess"
   ]
  },
  {
   "cell_type": "code",
   "execution_count": 5,
   "metadata": {},
   "outputs": [],
   "source": [
    "train_paths = glob('../dataset/cifar/train/*.png')[:1000]\n",
    "test_paths = glob('../dataset/cifar/test/*.png')[:1000]"
   ]
  },
  {
   "cell_type": "code",
   "execution_count": 6,
   "metadata": {},
   "outputs": [],
   "source": [
    "def get_class_name(path):\n",
    "    return path.split('_')[-1].replace('.png', '')"
   ]
  },
  {
   "cell_type": "code",
   "execution_count": 7,
   "metadata": {},
   "outputs": [],
   "source": [
    "train_labels = [get_class_name(path) for path in train_paths]\n",
    "class_names = np.unique(train_labels)"
   ]
  },
  {
   "cell_type": "code",
   "execution_count": 8,
   "metadata": {},
   "outputs": [],
   "source": [
    "def get_label(path):\n",
    "    fname = tf.strings.split(path, '_')[-1]\n",
    "    lbl_name = tf.strings.regex_replace(fname, '.png', '')\n",
    "    onehot = tf.cast(lbl_name == class_names, tf.uint8)\n",
    "    return tf.argmax(onehot)  # 이번에는 onehot이 아닌 label 번호로"
   ]
  },
  {
   "cell_type": "code",
   "execution_count": 9,
   "metadata": {},
   "outputs": [],
   "source": [
    "def load_image_label(path):\n",
    "    gfile = tf.io.read_file(path)\n",
    "    image = tf.io.decode_image(gfile)\n",
    "    image = tf.cast(image, tf.float32) / 255.  # rescale\n",
    "    \n",
    "    label = get_label(path)\n",
    "    return image, label"
   ]
  },
  {
   "cell_type": "code",
   "execution_count": 10,
   "metadata": {},
   "outputs": [],
   "source": [
    "def image_preprocess(image, label):\n",
    "    image = tf.image.random_flip_up_down(image)\n",
    "    image = tf.image.random_flip_left_right(image)\n",
    "    return image, label"
   ]
  },
  {
   "cell_type": "code",
   "execution_count": 11,
   "metadata": {},
   "outputs": [],
   "source": [
    "AUTOTUNE = tf.data.experimental.AUTOTUNE"
   ]
  },
  {
   "cell_type": "code",
   "execution_count": 12,
   "metadata": {},
   "outputs": [],
   "source": [
    "train_dataset = tf.data.Dataset.from_tensor_slices(train_paths)\n",
    "train_dataset = train_dataset.map(load_image_label, num_parallel_calls=AUTOTUNE)\n",
    "train_dataset = train_dataset.map(image_preprocess, num_parallel_calls=AUTOTUNE)\n",
    "train_dataset = train_dataset.batch(batch_size)\n",
    "train_dataset = train_dataset.shuffle(buffer_size=len(train_paths))\n",
    "train_dataset = train_dataset.repeat()"
   ]
  },
  {
   "cell_type": "code",
   "execution_count": 13,
   "metadata": {},
   "outputs": [],
   "source": [
    "test_dataset = tf.data.Dataset.from_tensor_slices(test_paths)\n",
    "test_dataset = test_dataset.map(load_image_label, num_parallel_calls=AUTOTUNE)\n",
    "test_dataset = test_dataset.batch(batch_size)\n",
    "test_dataset = test_dataset.repeat()"
   ]
  },
  {
   "cell_type": "markdown",
   "metadata": {},
   "source": [
    "## Training\n",
    "- http://localhost:6006"
   ]
  },
  {
   "cell_type": "code",
   "execution_count": 14,
   "metadata": {},
   "outputs": [
    {
     "name": "stdout",
     "output_type": "stream",
     "text": [
      "Epoch 1/50\n",
      "31/31 [==============================] - 6s 194ms/step - loss: 2.3186 - accuracy: 0.1095 - val_loss: 2.2978 - val_accuracy: 0.1200\n",
      "Epoch 2/50\n",
      "31/31 [==============================] - 8s 247ms/step - loss: 2.2801 - accuracy: 0.1291 - val_loss: 2.3018 - val_accuracy: 0.0938\n",
      "Epoch 3/50\n",
      "31/31 [==============================] - 9s 298ms/step - loss: 2.2172 - accuracy: 0.1818 - val_loss: 2.1443 - val_accuracy: 0.1825\n",
      "Epoch 4/50\n",
      "31/31 [==============================] - 9s 293ms/step - loss: 2.1587 - accuracy: 0.2004 - val_loss: 2.0715 - val_accuracy: 0.2177\n",
      "Epoch 5/50\n",
      "31/31 [==============================] - 10s 313ms/step - loss: 2.1523 - accuracy: 0.2097 - val_loss: 2.1234 - val_accuracy: 0.1956\n",
      "Epoch 6/50\n",
      "31/31 [==============================] - 10s 316ms/step - loss: 2.0986 - accuracy: 0.2004 - val_loss: 2.0330 - val_accuracy: 0.2339\n",
      "Epoch 7/50\n",
      "31/31 [==============================] - 10s 309ms/step - loss: 1.9882 - accuracy: 0.2490 - val_loss: 1.9579 - val_accuracy: 0.2571\n",
      "Epoch 8/50\n",
      "31/31 [==============================] - 10s 308ms/step - loss: 2.0013 - accuracy: 0.2540 - val_loss: 1.9463 - val_accuracy: 0.2792\n",
      "Epoch 9/50\n",
      "31/31 [==============================] - 9s 293ms/step - loss: 1.9392 - accuracy: 0.2758 - val_loss: 1.8228 - val_accuracy: 0.3095\n",
      "Epoch 10/50\n",
      "31/31 [==============================] - 9s 299ms/step - loss: 1.8865 - accuracy: 0.2956 - val_loss: 1.7931 - val_accuracy: 0.3226\n",
      "Epoch 11/50\n",
      "31/31 [==============================] - 10s 307ms/step - loss: 1.8506 - accuracy: 0.3034 - val_loss: 1.8070 - val_accuracy: 0.3649\n",
      "Epoch 12/50\n",
      "31/31 [==============================] - 9s 301ms/step - loss: 1.8633 - accuracy: 0.2987 - val_loss: 1.7673 - val_accuracy: 0.3327\n",
      "Epoch 13/50\n",
      "31/31 [==============================] - 10s 316ms/step - loss: 1.7744 - accuracy: 0.3378 - val_loss: 1.7689 - val_accuracy: 0.3286\n",
      "Epoch 14/50\n",
      "31/31 [==============================] - 9s 296ms/step - loss: 1.8094 - accuracy: 0.2965 - val_loss: 1.7903 - val_accuracy: 0.3427\n",
      "Epoch 15/50\n",
      "31/31 [==============================] - 9s 303ms/step - loss: 1.7396 - accuracy: 0.3295 - val_loss: 1.7526 - val_accuracy: 0.3649\n",
      "Epoch 16/50\n",
      "31/31 [==============================] - 10s 338ms/step - loss: 1.7868 - accuracy: 0.3089 - val_loss: 1.7568 - val_accuracy: 0.3407\n",
      "Epoch 17/50\n",
      "31/31 [==============================] - 10s 325ms/step - loss: 1.6824 - accuracy: 0.3740 - val_loss: 1.8384 - val_accuracy: 0.3508\n",
      "Epoch 18/50\n",
      "31/31 [==============================] - 11s 349ms/step - loss: 1.6848 - accuracy: 0.3574 - val_loss: 1.7104 - val_accuracy: 0.3750\n",
      "Epoch 19/50\n",
      "31/31 [==============================] - 10s 321ms/step - loss: 1.6300 - accuracy: 0.3926 - val_loss: 1.7519 - val_accuracy: 0.3800\n",
      "Epoch 20/50\n",
      "31/31 [==============================] - 10s 326ms/step - loss: 1.6579 - accuracy: 0.3843 - val_loss: 1.6616 - val_accuracy: 0.4012\n",
      "Epoch 21/50\n",
      "31/31 [==============================] - 9s 305ms/step - loss: 1.6082 - accuracy: 0.4073 - val_loss: 1.7377 - val_accuracy: 0.3639\n",
      "Epoch 22/50\n",
      "31/31 [==============================] - 9s 277ms/step - loss: 1.5594 - accuracy: 0.4153 - val_loss: 1.7081 - val_accuracy: 0.3942\n",
      "Epoch 23/50\n",
      "31/31 [==============================] - 9s 299ms/step - loss: 1.6349 - accuracy: 0.3861 - val_loss: 1.7157 - val_accuracy: 0.3911\n",
      "Epoch 24/50\n",
      "31/31 [==============================] - 9s 294ms/step - loss: 1.5366 - accuracy: 0.4215 - val_loss: 1.6012 - val_accuracy: 0.4254\n",
      "Epoch 25/50\n",
      "31/31 [==============================] - 9s 290ms/step - loss: 1.5004 - accuracy: 0.4523 - val_loss: 1.6854 - val_accuracy: 0.3750\n",
      "Epoch 26/50\n",
      "31/31 [==============================] - 9s 291ms/step - loss: 1.5383 - accuracy: 0.4254 - val_loss: 1.6377 - val_accuracy: 0.4214\n",
      "Epoch 27/50\n",
      "31/31 [==============================] - 10s 319ms/step - loss: 1.4653 - accuracy: 0.4401 - val_loss: 1.6194 - val_accuracy: 0.4405\n",
      "Epoch 28/50\n",
      "31/31 [==============================] - 10s 331ms/step - loss: 1.4366 - accuracy: 0.4638 - val_loss: 1.6124 - val_accuracy: 0.4062\n",
      "Epoch 29/50\n",
      "31/31 [==============================] - 10s 325ms/step - loss: 1.4376 - accuracy: 0.4788 - val_loss: 1.6757 - val_accuracy: 0.3911\n",
      "Epoch 30/50\n",
      "31/31 [==============================] - 11s 340ms/step - loss: 1.5018 - accuracy: 0.4627 - val_loss: 1.6407 - val_accuracy: 0.4244\n",
      "Epoch 31/50\n",
      "31/31 [==============================] - 10s 329ms/step - loss: 1.3943 - accuracy: 0.4804 - val_loss: 1.6168 - val_accuracy: 0.4204\n",
      "Epoch 32/50\n",
      "31/31 [==============================] - 9s 301ms/step - loss: 1.3181 - accuracy: 0.5238 - val_loss: 1.5390 - val_accuracy: 0.4486\n",
      "Epoch 33/50\n",
      "31/31 [==============================] - 10s 324ms/step - loss: 1.3611 - accuracy: 0.5072 - val_loss: 1.7405 - val_accuracy: 0.4083\n",
      "Epoch 34/50\n",
      "31/31 [==============================] - 10s 320ms/step - loss: 1.3715 - accuracy: 0.5052 - val_loss: 1.5972 - val_accuracy: 0.4335\n",
      "Epoch 35/50\n",
      "31/31 [==============================] - 11s 357ms/step - loss: 1.3548 - accuracy: 0.4990 - val_loss: 1.5848 - val_accuracy: 0.4375\n",
      "Epoch 36/50\n",
      "31/31 [==============================] - 11s 349ms/step - loss: 1.3012 - accuracy: 0.5297 - val_loss: 1.6468 - val_accuracy: 0.4234\n",
      "Epoch 37/50\n",
      "31/31 [==============================] - 10s 336ms/step - loss: 1.2356 - accuracy: 0.5444 - val_loss: 1.6087 - val_accuracy: 0.4405\n",
      "Epoch 38/50\n",
      "31/31 [==============================] - 11s 347ms/step - loss: 1.2057 - accuracy: 0.5702 - val_loss: 1.8013 - val_accuracy: 0.4173\n",
      "Epoch 39/50\n",
      "31/31 [==============================] - 11s 344ms/step - loss: 1.2248 - accuracy: 0.5537 - val_loss: 1.6193 - val_accuracy: 0.4466\n",
      "Epoch 40/50\n",
      "31/31 [==============================] - 11s 344ms/step - loss: 1.1420 - accuracy: 0.5702 - val_loss: 1.5819 - val_accuracy: 0.4526\n",
      "Epoch 41/50\n",
      "31/31 [==============================] - 10s 336ms/step - loss: 1.1624 - accuracy: 0.5702 - val_loss: 1.5769 - val_accuracy: 0.4526\n",
      "Epoch 42/50\n",
      "31/31 [==============================] - 10s 314ms/step - loss: 1.1364 - accuracy: 0.6116 - val_loss: 1.6262 - val_accuracy: 0.4506\n",
      "Epoch 43/50\n",
      "31/31 [==============================] - 9s 298ms/step - loss: 1.1795 - accuracy: 0.5744 - val_loss: 1.6418 - val_accuracy: 0.4204\n",
      "Epoch 44/50\n",
      "31/31 [==============================] - 10s 307ms/step - loss: 1.1536 - accuracy: 0.5816 - val_loss: 1.6743 - val_accuracy: 0.4234\n",
      "Epoch 45/50\n",
      "31/31 [==============================] - 9s 305ms/step - loss: 1.1459 - accuracy: 0.5847 - val_loss: 1.5882 - val_accuracy: 0.4466\n",
      "Epoch 46/50\n",
      "31/31 [==============================] - 9s 305ms/step - loss: 1.1029 - accuracy: 0.6099 - val_loss: 1.5847 - val_accuracy: 0.4587\n",
      "Epoch 47/50\n",
      "31/31 [==============================] - 9s 300ms/step - loss: 1.0326 - accuracy: 0.6028 - val_loss: 1.5998 - val_accuracy: 0.4667\n",
      "Epoch 48/50\n",
      "31/31 [==============================] - 10s 319ms/step - loss: 1.0937 - accuracy: 0.6038 - val_loss: 1.5856 - val_accuracy: 0.4617\n",
      "Epoch 49/50\n",
      "31/31 [==============================] - 10s 332ms/step - loss: 1.0828 - accuracy: 0.6126 - val_loss: 1.5665 - val_accuracy: 0.4627\n",
      "Epoch 50/50\n",
      "31/31 [==============================] - 10s 309ms/step - loss: 0.9995 - accuracy: 0.6271 - val_loss: 1.6607 - val_accuracy: 0.4587\n"
     ]
    }
   ],
   "source": [
    "steps_per_epoch = len(train_paths) // batch_size\n",
    "validation_steps = len(test_paths) // batch_size\n",
    "\n",
    "# history에 꼭 담아줘야 함\n",
    "history = model.fit_generator(\n",
    "    train_dataset,\n",
    "    steps_per_epoch=steps_per_epoch,\n",
    "    validation_data=test_dataset,\n",
    "    validation_steps=validation_steps,\n",
    "    epochs=num_epochs\n",
    ")"
   ]
  },
  {
   "cell_type": "markdown",
   "metadata": {},
   "source": [
    "## History 들여다 보기 "
   ]
  },
  {
   "cell_type": "code",
   "execution_count": 15,
   "metadata": {},
   "outputs": [
    {
     "data": {
      "text/plain": [
       "dict_keys(['loss', 'accuracy', 'val_loss', 'val_accuracy'])"
      ]
     },
     "execution_count": 15,
     "metadata": {},
     "output_type": "execute_result"
    }
   ],
   "source": [
    "# 기록된 사항들\n",
    "history.history.keys()"
   ]
  },
  {
   "cell_type": "code",
   "execution_count": 16,
   "metadata": {},
   "outputs": [
    {
     "data": {
      "text/plain": [
       "{'batch_size': None,\n",
       " 'epochs': 50,\n",
       " 'steps': 31,\n",
       " 'samples': 31,\n",
       " 'verbose': 0,\n",
       " 'do_validation': True,\n",
       " 'metrics': ['loss', 'accuracy', 'val_loss', 'val_accuracy']}"
      ]
     },
     "execution_count": 16,
     "metadata": {},
     "output_type": "execute_result"
    }
   ],
   "source": [
    "# 설정 사항들 확인할 수 있음\n",
    "history.params"
   ]
  },
  {
   "cell_type": "code",
   "execution_count": 17,
   "metadata": {},
   "outputs": [],
   "source": [
    "new_model = history.model"
   ]
  },
  {
   "cell_type": "code",
   "execution_count": 18,
   "metadata": {},
   "outputs": [
    {
     "data": {
      "image/png": "[encoded data removed]",
      "text/plain": [
       "<Figure size 432x288 with 1 Axes>"
      ]
     },
     "metadata": {
      "needs_background": "light"
     },
     "output_type": "display_data"
    }
   ],
   "source": [
    "# matplot.lib 을 사용해서 학습 결과 보기\n",
    "plt.plot(history.history['accuracy'])\n",
    "plt.plot(history.history['val_accuracy'])\n",
    "plt.title(\"Model Accuracy\")\n",
    "plt.ylabel('accuracy')\n",
    "plt.xlabel('epoch')\n",
    "plt.legend(['train', 'validation'])\n",
    "plt.show()"
   ]
  },
  {
   "cell_type": "code",
   "execution_count": 19,
   "metadata": {},
   "outputs": [
    {
     "data": {
      "image/png": "[encoded data removed]",
      "text/plain": [
       "<Figure size 432x288 with 1 Axes>"
      ]
     },
     "metadata": {
      "needs_background": "light"
     },
     "output_type": "display_data"
    }
   ],
   "source": [
    "plt.plot(history.history['loss'])\n",
    "plt.plot(history.history['val_loss'])\n",
    "plt.title('Model Loss')\n",
    "plt.ylabel('loss')\n",
    "plt.xlabel('epoch')\n",
    "plt.legend(['train', 'validation'])\n",
    "plt.show()"
   ]
  },
  {
   "cell_type": "code",
   "execution_count": null,
   "metadata": {},
   "outputs": [],
   "source": []
  },
  {
   "cell_type": "code",
   "execution_count": null,
   "metadata": {},
   "outputs": [],
   "source": []
  },
  {
   "cell_type": "code",
   "execution_count": null,
   "metadata": {},
   "outputs": [],
   "source": []
  },
  {
   "cell_type": "code",
   "execution_count": null,
   "metadata": {},
   "outputs": [],
   "source": []
  },
  {
   "cell_type": "code",
   "execution_count": null,
   "metadata": {},
   "outputs": [],
   "source": []
  },
  {
   "cell_type": "code",
   "execution_count": null,
   "metadata": {},
   "outputs": [],
   "source": []
  },
  {
   "cell_type": "code",
   "execution_count": null,
   "metadata": {},
   "outputs": [],
   "source": []
  },
  {
   "cell_type": "code",
   "execution_count": null,
   "metadata": {},
   "outputs": [],
   "source": []
  },
  {
   "cell_type": "code",
   "execution_count": null,
   "metadata": {},
   "outputs": [],
   "source": []
  },
  {
   "cell_type": "code",
   "execution_count": null,
   "metadata": {},
   "outputs": [],
   "source": []
  },
  {
   "cell_type": "code",
   "execution_count": null,
   "metadata": {},
   "outputs": [],
   "source": []
  },
  {
   "cell_type": "code",
   "execution_count": null,
   "metadata": {},
   "outputs": [],
   "source": []
  },
  {
   "cell_type": "code",
   "execution_count": null,
   "metadata": {},
   "outputs": [],
   "source": []
  },
  {
   "cell_type": "code",
   "execution_count": null,
   "metadata": {},
   "outputs": [],
   "source": []
  },
  {
   "cell_type": "code",
   "execution_count": null,
   "metadata": {},
   "outputs": [],
   "source": []
  }
 ],
 "metadata": {
  "kernelspec": {
   "display_name": "Python 3",
   "language": "python",
   "name": "python3"
  },
  "language_info": {
   "codemirror_mode": {
    "name": "ipython",
    "version": 3
   },
   "file_extension": ".py",
   "mimetype": "text/x-python",
   "name": "python",
   "nbconvert_exporter": "python",
   "pygments_lexer": "ipython3",
   "version": "3.7.4"
  }
 },
 "nbformat": 4,
 "nbformat_minor": 2
}
