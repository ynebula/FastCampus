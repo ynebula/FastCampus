{
 "cells": [
  {
   "cell_type": "markdown",
   "metadata": {},
   "source": [
    "## Optimization & Training(Beginner)\n",
    "- tf와 layers 패키지 불러오기"
   ]
  },
  {
   "cell_type": "code",
   "execution_count": 2,
   "metadata": {},
   "outputs": [],
   "source": [
    "import tensorflow as tf\n",
    "from tensorflow.keras import layers\n",
    "from tensorflow.keras import datasets\n",
    "import numpy as np"
   ]
  },
  {
   "cell_type": "markdown",
   "metadata": {},
   "source": [
    "### Prepare MNIST Dataset"
   ]
  },
  {
   "cell_type": "code",
   "execution_count": 3,
   "metadata": {},
   "outputs": [
    {
     "data": {
      "text/plain": [
       "((60000, 28, 28), (60000,))"
      ]
     },
     "execution_count": 3,
     "metadata": {},
     "output_type": "execute_result"
    }
   ],
   "source": [
    "(train_x, train_y), (test_x, test_y) = datasets.mnist.load_data()\n",
    "train_x.shape, train_y.shape"
   ]
  },
  {
   "cell_type": "markdown",
   "metadata": {},
   "source": [
    "### Build Model"
   ]
  },
  {
   "cell_type": "code",
   "execution_count": 4,
   "metadata": {},
   "outputs": [],
   "source": [
    "# inputs = layers.Input((28, 28, 1))\n",
    "\n",
    "# net = layers.Conv2D(32, (3, 3), padding='SAME')(inputs)\n",
    "# net = layers.Activation('relu')(net)\n",
    "# net = layers.Conv2D(32, (3, 3), padding='SAME')(net)\n",
    "# net = layers.Activation('relu')(net)\n",
    "# net = layers.MaxPooling2D(pool_size=(2, 2))(net)\n",
    "# net = layers.Dropout(0.25)(net)\n",
    "\n",
    "# net = layers.Conv2D(64, (3, 3), padding='SAME')(net)\n",
    "# net = layers.Activation('relu')(net)\n",
    "# net = layers.Conv2D(64, (3, 3), padding='SAME')(net)\n",
    "# net = layers.Activation('relu')(net)\n",
    "# net = layers.MaxPooling2D(pool_size=(2, 2))(net)\n",
    "# net = layers.Dropout(0.25)(net)\n",
    "\n",
    "# net = layers.Flatten()(net)\n",
    "# net = layers.Dense(512)(net)\n",
    "# net = layers.Activation('relu')(net)\n",
    "# net = layers.Dropout(0.5)(net)\n",
    "# net = layers.Dense(10)(net)  # num_classes\n",
    "# net = layers.Activation('softmax')(net)\n",
    "\n",
    "# model = tf.keras.Model(inputs=inputs, outputs=net, name='Basic_CNN')\n",
    "\n",
    "\n",
    "model = tf.keras.models.Sequential([\n",
    "    tf.keras.layers.Conv2D(input_shape=(28, 28, 1), filters=32, kernel_size=(3,3), strides=(1, 1), padding='SAME', activation='relu'),\n",
    "    tf.keras.layers.MaxPool2D([2, 2], padding='same'),\n",
    "    tf.keras.layers.Dropout(0.25),    \n",
    "    tf.keras.layers.Conv2D(filters=64, kernel_size=(3,3), strides=(1, 1), padding='SAME', activation='relu'),\n",
    "    tf.keras.layers.MaxPool2D([2, 2], padding='same'),\n",
    "    tf.keras.layers.Dropout(0.25),\n",
    "    tf.keras.layers.Flatten(),\n",
    "    tf.keras.layers.Dense(128, activation='relu'),\n",
    "    tf.keras.layers.Dropout(0.2),\n",
    "    tf.keras.layers.Dense(10, activation='softmax')\n",
    "])"
   ]
  },
  {
   "cell_type": "markdown",
   "metadata": {},
   "source": [
    "### Optimization\n",
    "모델을 학습하기 전 설정\n",
    "- Loss Function\n",
    "- Optimization\n",
    "- Metrics\n",
    "\n",
    "### Loss Function\n",
    "Loss Function 방법 확인\n",
    "\n",
    "#### Categorical vs Binary\n",
    "- 'binary_crossentropy'\n",
    "- 'categorical_crossentropy', 'sparse_categorical_crossentropy'\n",
    "\n",
    "#### sparse_categorical_crossentropy vs categorical_crossentropy\n",
    "- one-hot encoding binary: tf.keras.losses.binary_crossentropy\n",
    "- one-hot encoding multiple: tf.keras.losses.categorical_crossentropy\n",
    "- one-hot encoding 아닐경우: tf.keras.losses.sparse_categorical_crossentropy\n",
    "\n",
    "\n",
    "If your targets are one-hot encoded, use categorical_crossentropy\n",
    "[1,0,0]\n",
    "[0,1,0]\n",
    "[0,0,1]\n",
    "\n",
    "if your targets are integers, use sparse_categorical_crossentropy.\n",
    "1\n",
    "2\n",
    "3"
   ]
  },
  {
   "cell_type": "code",
   "execution_count": 5,
   "metadata": {},
   "outputs": [],
   "source": [
    "loss_fun = 'sparse_categorical_crossentropy'"
   ]
  },
  {
   "cell_type": "markdown",
   "metadata": {},
   "source": [
    "### Metrics\n",
    "- 모델을 평가하는 방법\n",
    "- accuracy를 보통 많이 사용함 : 전체 갯수에서 맞춘 확률\n",
    "\n",
    "accuracy를 이름으로 넣는 방법\n",
    "- metrics = ['accuracy']\n",
    "- metrics는 List 타입으로 주는 이유: Accuracy, recall, precision 등을 주기 때문이다.\n",
    "\n",
    "tf.keras.metrics 를 이용하는 방법(아래 방법을 사용하면 에러 발생함 - 원인파악 필요)\n",
    "- tf.keras.metrics.Accuracy()\n",
    "- tf.keras.metrics.Precision()\n",
    "- tf.keras.metrics.Recall()"
   ]
  },
  {
   "cell_type": "code",
   "execution_count": 6,
   "metadata": {},
   "outputs": [],
   "source": [
    "metrics = ['accuracy']"
   ]
  },
  {
   "cell_type": "markdown",
   "metadata": {},
   "source": [
    "### Optimizer 적용\n",
    "- 'sgd'\n",
    "- 'rmsprop'\n",
    "- 'adam'\n",
    "- tf.keras.optimizers.SGD()\n",
    "- tf.keras.optimizers.RMSprop()\n",
    "- tf.keras.optimizers.Adam()"
   ]
  },
  {
   "cell_type": "code",
   "execution_count": 7,
   "metadata": {},
   "outputs": [],
   "source": [
    "optm = tf.keras.optimizers.Adam()"
   ]
  },
  {
   "cell_type": "markdown",
   "metadata": {},
   "source": [
    "### Compile"
   ]
  },
  {
   "cell_type": "code",
   "execution_count": 8,
   "metadata": {},
   "outputs": [],
   "source": [
    "model.compile(optimizer=optm,\n",
    "              loss=loss_fun,\n",
    "              metrics=metrics)"
   ]
  },
  {
   "cell_type": "markdown",
   "metadata": {},
   "source": [
    "## Prepare Dataset\n",
    "학습에 사용할 데이터셋 준비\n",
    "\n",
    "shape 확인: MNIST 데이터셋은 gray로 되어있기 때문에 channel 데이터가 없는 3차원 구조이다.\n",
    "\n",
    "RGB일 경우 차원수를 늘려줄 필요없다."
   ]
  },
  {
   "cell_type": "code",
   "execution_count": 11,
   "metadata": {},
   "outputs": [
    {
     "data": {
      "text/plain": [
       "((60000, 28, 28), (60000,))"
      ]
     },
     "execution_count": 11,
     "metadata": {},
     "output_type": "execute_result"
    }
   ],
   "source": [
    "train_x.shape, train_y.shape"
   ]
  },
  {
   "cell_type": "code",
   "execution_count": 12,
   "metadata": {},
   "outputs": [
    {
     "data": {
      "text/plain": [
       "((10000, 28, 28), (10000,))"
      ]
     },
     "execution_count": 12,
     "metadata": {},
     "output_type": "execute_result"
    }
   ],
   "source": [
    "test_x.shape, test_y.shape"
   ]
  },
  {
   "cell_type": "markdown",
   "metadata": {},
   "source": [
    "tf.keras.Model을 사용할 경우 차원을 4차원으로 만들어줘야 한다.\n",
    "\n",
    "channel을 추가해 3차원에서 4차원으로 차원 수 늘리기\n",
    "\n",
    "차원 늘리는 방법\n",
    "- np.expand_dims(train_x, -1).shape\n",
    "- tf.expand_dims(train_x, -1).shape\n",
    "- train_x[..., tf.nexaxis]"
   ]
  },
  {
   "cell_type": "code",
   "execution_count": 13,
   "metadata": {},
   "outputs": [],
   "source": [
    "train_x = train_x[..., tf.newaxis]\n",
    "test_x = test_x[..., tf.newaxis]"
   ]
  },
  {
   "cell_type": "code",
   "execution_count": 14,
   "metadata": {},
   "outputs": [
    {
     "data": {
      "text/plain": [
       "((60000, 28, 28, 1), (10000, 28, 28, 1))"
      ]
     },
     "execution_count": 14,
     "metadata": {},
     "output_type": "execute_result"
    }
   ],
   "source": [
    "train_x.shape, test_x.shape"
   ]
  },
  {
   "cell_type": "markdown",
   "metadata": {},
   "source": [
    "### Rescaling \n",
    "- 데이터가 너무 확확 커지는걸 Rescaling 해서 조정한다. 해줘야 기울기가 잘 잡힌다.\n",
    "- Normialization: RGB는 0 ~ 255 값으로 되어 있는데 0과 1로 변경해준다. 즉 255.0로 나눠준다"
   ]
  },
  {
   "cell_type": "code",
   "execution_count": 15,
   "metadata": {},
   "outputs": [
    {
     "data": {
      "text/plain": [
       "(0, 255)"
      ]
     },
     "execution_count": 15,
     "metadata": {},
     "output_type": "execute_result"
    }
   ],
   "source": [
    "np.min(train_x), np.max(train_x)"
   ]
  },
  {
   "cell_type": "code",
   "execution_count": 16,
   "metadata": {},
   "outputs": [],
   "source": [
    "train_x = train_x / 255.\n",
    "test_x = test_x / 255."
   ]
  },
  {
   "cell_type": "code",
   "execution_count": 17,
   "metadata": {},
   "outputs": [
    {
     "data": {
      "text/plain": [
       "(0.0, 1.0)"
      ]
     },
     "execution_count": 17,
     "metadata": {},
     "output_type": "execute_result"
    }
   ],
   "source": [
    "np.min(train_x), np.max(train_x)"
   ]
  },
  {
   "cell_type": "markdown",
   "metadata": {},
   "source": [
    "### Training\n",
    "학습\n",
    "\n",
    "학습용 Hyperparameter 설정\n",
    "- num_epochs: 데이터를 한번 쭉 다 보는 수\n",
    "- batch_size: batch size만큼 데이터를 model에 한 번에 넣어준다. memory 사용효율을 위해 적정 수준을 넣어줘야 한다.\n",
    "너무 많이 넣으면 memory full 현상 발생 가능성 있다.\n",
    "- 학습을 할때는 shuffle을 해야한다.\n",
    "- shuffle: overfitting을 방지하기 위한 방법으로 "
   ]
  },
  {
   "cell_type": "markdown",
   "metadata": {},
   "source": [
    "num_epochs = 1\n",
    "batch_size = 32"
   ]
  },
  {
   "cell_type": "code",
   "execution_count": 18,
   "metadata": {
    "scrolled": true
   },
   "outputs": [
    {
     "name": "stdout",
     "output_type": "stream",
     "text": [
      "Model: \"sequential\"\n",
      "_________________________________________________________________\n",
      "Layer (type)                 Output Shape              Param #   \n",
      "=================================================================\n",
      "conv2d (Conv2D)              (None, 28, 28, 32)        320       \n",
      "_________________________________________________________________\n",
      "max_pooling2d (MaxPooling2D) (None, 14, 14, 32)        0         \n",
      "_________________________________________________________________\n",
      "dropout (Dropout)            (None, 14, 14, 32)        0         \n",
      "_________________________________________________________________\n",
      "conv2d_1 (Conv2D)            (None, 14, 14, 64)        18496     \n",
      "_________________________________________________________________\n",
      "max_pooling2d_1 (MaxPooling2 (None, 7, 7, 64)          0         \n",
      "_________________________________________________________________\n",
      "dropout_1 (Dropout)          (None, 7, 7, 64)          0         \n",
      "_________________________________________________________________\n",
      "flatten (Flatten)            (None, 3136)              0         \n",
      "_________________________________________________________________\n",
      "dense (Dense)                (None, 128)               401536    \n",
      "_________________________________________________________________\n",
      "dropout_2 (Dropout)          (None, 128)               0         \n",
      "_________________________________________________________________\n",
      "dense_1 (Dense)              (None, 10)                1290      \n",
      "=================================================================\n",
      "Total params: 421,642\n",
      "Trainable params: 421,642\n",
      "Non-trainable params: 0\n",
      "_________________________________________________________________\n"
     ]
    }
   ],
   "source": [
    "model.summary()"
   ]
  },
  {
   "cell_type": "code",
   "execution_count": 19,
   "metadata": {
    "scrolled": true
   },
   "outputs": [
    {
     "name": "stdout",
     "output_type": "stream",
     "text": [
      "Train on 60000 samples\n",
      "60000/60000 [==============================] - 49s 814us/sample - loss: 0.1754 - accuracy: 0.9457\n"
     ]
    },
    {
     "data": {
      "text/plain": [
       "<tensorflow.python.keras.callbacks.History at 0x1fe525c7e08>"
      ]
     },
     "execution_count": 19,
     "metadata": {},
     "output_type": "execute_result"
    }
   ],
   "source": [
    "epochs = 1\n",
    "batch_size = 32\n",
    "model.fit(x=train_x, y=train_y, batch_size=batch_size, epochs=epochs)"
   ]
  },
  {
   "cell_type": "code",
   "execution_count": null,
   "metadata": {},
   "outputs": [],
   "source": []
  },
  {
   "cell_type": "code",
   "execution_count": null,
   "metadata": {},
   "outputs": [],
   "source": []
  }
 ],
 "metadata": {
  "kernelspec": {
   "display_name": "Python 3",
   "language": "python",
   "name": "python3"
  },
  "language_info": {
   "codemirror_mode": {
    "name": "ipython",
    "version": 3
   },
   "file_extension": ".py",
   "mimetype": "text/x-python",
   "name": "python",
   "nbconvert_exporter": "python",
   "pygments_lexer": "ipython3",
   "version": "3.7.4"
  }
 },
 "nbformat": 4,
 "nbformat_minor": 2
}
